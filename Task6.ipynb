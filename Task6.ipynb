{
 "cells": [
  {
   "cell_type": "code",
   "execution_count": 5,
   "metadata": {},
   "outputs": [],
   "source": [
    "import pandas as pd\n",
    "import numpy as np"
   ]
  },
  {
   "cell_type": "code",
   "execution_count": 6,
   "metadata": {},
   "outputs": [],
   "source": [
    "data = pd.read_csv('data.csv',encoding='gbk')"
   ]
  },
  {
   "cell_type": "code",
   "execution_count": 7,
   "metadata": {},
   "outputs": [
    {
     "data": {
      "text/plain": [
       "(4754, 90)"
      ]
     },
     "execution_count": 7,
     "metadata": {},
     "output_type": "execute_result"
    }
   ],
   "source": [
    "data.shape"
   ]
  },
  {
   "cell_type": "code",
   "execution_count": 8,
   "metadata": {},
   "outputs": [
    {
     "data": {
      "text/plain": [
       "(4754, 80)"
      ]
     },
     "execution_count": 8,
     "metadata": {},
     "output_type": "execute_result"
    }
   ],
   "source": [
    "delete = ['Unnamed: 0', 'custid', 'trade_no', 'bank_card_no','id_name','latest_query_time','source','loans_latest_time','first_transaction_time', 'student_feature']\n",
    "data = data.drop(delete,axis=1)\n",
    "data.shape"
   ]
  },
  {
   "cell_type": "code",
   "execution_count": 9,
   "metadata": {},
   "outputs": [],
   "source": [
    "# 使用众数填充\n",
    "from sklearn.impute import SimpleImputer\n",
    "for i in range(data.shape[1]):\n",
    "    feature = data.iloc[:,i].values.reshape(-1,1)  #sklearn中特征矩阵必须是二维\n",
    "    imp_mode = SimpleImputer(strategy='most_frequent')\n",
    "    data.iloc[:,i] = imp_mode.fit_transform(feature)"
   ]
  },
  {
   "cell_type": "code",
   "execution_count": 10,
   "metadata": {},
   "outputs": [
    {
     "name": "stdout",
     "output_type": "stream",
     "text": [
      "<class 'pandas.core.frame.DataFrame'>\n",
      "RangeIndex: 4754 entries, 0 to 4753\n",
      "Data columns (total 80 columns):\n",
      "low_volume_percent                            4754 non-null float64\n",
      "middle_volume_percent                         4754 non-null float64\n",
      "take_amount_in_later_12_month_highest         4754 non-null int64\n",
      "trans_amount_increase_rate_lately             4754 non-null float64\n",
      "trans_activity_month                          4754 non-null float64\n",
      "trans_activity_day                            4754 non-null float64\n",
      "transd_mcc                                    4754 non-null float64\n",
      "trans_days_interval_filter                    4754 non-null float64\n",
      "trans_days_interval                           4754 non-null float64\n",
      "regiol_mobility                               4754 non-null float64\n",
      "repayment_capability                          4754 non-null int64\n",
      "is_high_user                                  4754 non-null int64\n",
      "number_of_trans_from_2011                     4754 non-null float64\n",
      "historical_trans_amount                       4754 non-null int64\n",
      "historical_trans_day                          4754 non-null float64\n",
      "rank_trad_1_month                             4754 non-null float64\n",
      "trans_amount_3_month                          4754 non-null int64\n",
      "avg_consume_less_12_valid_month               4754 non-null float64\n",
      "abs                                           4754 non-null int64\n",
      "top_trans_count_last_1_month                  4754 non-null float64\n",
      "avg_price_last_12_month                       4754 non-null int64\n",
      "avg_price_top_last_12_valid_month             4754 non-null float64\n",
      "reg_preference_for_trad                       4754 non-null object\n",
      "trans_top_time_last_1_month                   4754 non-null float64\n",
      "trans_top_time_last_6_month                   4754 non-null float64\n",
      "consume_top_time_last_1_month                 4754 non-null float64\n",
      "consume_top_time_last_6_month                 4754 non-null float64\n",
      "cross_consume_count_last_1_month              4754 non-null float64\n",
      "trans_fail_top_count_enum_last_1_month        4754 non-null float64\n",
      "trans_fail_top_count_enum_last_6_month        4754 non-null float64\n",
      "trans_fail_top_count_enum_last_12_month       4754 non-null float64\n",
      "consume_mini_time_last_1_month                4754 non-null float64\n",
      "max_cumulative_consume_later_1_month          4754 non-null int64\n",
      "max_consume_count_later_6_month               4754 non-null float64\n",
      "railway_consume_count_last_12_month           4754 non-null float64\n",
      "pawns_auctions_trusts_consume_last_1_month    4754 non-null int64\n",
      "pawns_auctions_trusts_consume_last_6_month    4754 non-null int64\n",
      "jewelry_consume_count_last_6_month            4754 non-null float64\n",
      "status                                        4754 non-null int64\n",
      "first_transaction_day                         4754 non-null float64\n",
      "trans_day_last_12_month                       4754 non-null float64\n",
      "apply_score                                   4754 non-null float64\n",
      "apply_credibility                             4754 non-null float64\n",
      "query_org_count                               4754 non-null float64\n",
      "query_fince_count                             4754 non-null float64\n",
      "query_cash_count                              4754 non-null float64\n",
      "query_sum_count                               4754 non-null float64\n",
      "latest_one_month_apply                        4754 non-null float64\n",
      "latest_three_month_apply                      4754 non-null float64\n",
      "latest_six_month_apply                        4754 non-null float64\n",
      "loans_score                                   4754 non-null float64\n",
      "loans_credibility_behavior                    4754 non-null float64\n",
      "loans_count                                   4754 non-null float64\n",
      "loans_settle_count                            4754 non-null float64\n",
      "loans_overdue_count                           4754 non-null float64\n",
      "loans_org_count_behavior                      4754 non-null float64\n",
      "consfin_org_count_behavior                    4754 non-null float64\n",
      "loans_cash_count                              4754 non-null float64\n",
      "latest_one_month_loan                         4754 non-null float64\n",
      "latest_three_month_loan                       4754 non-null float64\n",
      "latest_six_month_loan                         4754 non-null float64\n",
      "history_suc_fee                               4754 non-null float64\n",
      "history_fail_fee                              4754 non-null float64\n",
      "latest_one_month_suc                          4754 non-null float64\n",
      "latest_one_month_fail                         4754 non-null float64\n",
      "loans_long_time                               4754 non-null float64\n",
      "loans_credit_limit                            4754 non-null float64\n",
      "loans_credibility_limit                       4754 non-null float64\n",
      "loans_org_count_current                       4754 non-null float64\n",
      "loans_product_count                           4754 non-null float64\n",
      "loans_max_limit                               4754 non-null float64\n",
      "loans_avg_limit                               4754 non-null float64\n",
      "consfin_credit_limit                          4754 non-null float64\n",
      "consfin_credibility                           4754 non-null float64\n",
      "consfin_org_count_current                     4754 non-null float64\n",
      "consfin_product_count                         4754 non-null float64\n",
      "consfin_max_limit                             4754 non-null float64\n",
      "consfin_avg_limit                             4754 non-null float64\n",
      "latest_query_day                              4754 non-null float64\n",
      "loans_latest_day                              4754 non-null float64\n",
      "dtypes: float64(68), int64(11), object(1)\n",
      "memory usage: 2.9+ MB\n"
     ]
    }
   ],
   "source": [
    "data.info()"
   ]
  },
  {
   "cell_type": "code",
   "execution_count": 11,
   "metadata": {},
   "outputs": [],
   "source": [
    "# 处理分类型特征\n",
    "from sklearn.preprocessing import OrdinalEncoder\n",
    "data['reg_preference_for_trad'] = OrdinalEncoder().fit_transform(data['reg_preference_for_trad'].values.reshape(-1,1))"
   ]
  },
  {
   "cell_type": "code",
   "execution_count": 12,
   "metadata": {},
   "outputs": [
    {
     "data": {
      "text/plain": [
       "(4754, 80)"
      ]
     },
     "execution_count": 12,
     "metadata": {},
     "output_type": "execute_result"
    }
   ],
   "source": [
    "data.shape"
   ]
  },
  {
   "cell_type": "code",
   "execution_count": 13,
   "metadata": {},
   "outputs": [],
   "source": [
    "from sklearn.model_selection import train_test_split\n",
    "x = data.drop('status',axis=1)\n",
    "y = data.status\n",
    "X_train, X_test, y_train, y_test = train_test_split(x,y,test_size = 0.3,random_state =2018,shuffle = True) "
   ]
  },
  {
   "cell_type": "code",
   "execution_count": 14,
   "metadata": {},
   "outputs": [
    {
     "data": {
      "text/plain": [
       "(3327, 1427, 3327, 1427)"
      ]
     },
     "execution_count": 14,
     "metadata": {},
     "output_type": "execute_result"
    }
   ],
   "source": [
    "#y_train[y_train == 1].size,y_test[y_test == 1].size ,y_train[y_train == 0].size,y_test[y_test == 0].size\n",
    "X_train.shape[0], X_test.shape[0], y_train.size, y_test.size"
   ]
  },
  {
   "cell_type": "code",
   "execution_count": 15,
   "metadata": {},
   "outputs": [
    {
     "data": {
      "text/plain": [
       "RandomForestClassifier(bootstrap=True, class_weight=None, criterion='gini',\n",
       "                       max_depth=None, max_features='auto', max_leaf_nodes=None,\n",
       "                       min_impurity_decrease=0.0, min_impurity_split=None,\n",
       "                       min_samples_leaf=1, min_samples_split=2,\n",
       "                       min_weight_fraction_leaf=0.0, n_estimators=10000,\n",
       "                       n_jobs=-1, oob_score=False, random_state=0, verbose=0,\n",
       "                       warm_start=False)"
      ]
     },
     "execution_count": 15,
     "metadata": {},
     "output_type": "execute_result"
    }
   ],
   "source": [
    "# 随机森林\n",
    "from sklearn.ensemble import RandomForestClassifier\n",
    "forset = RandomForestClassifier(n_estimators=10000, random_state=0, n_jobs=-1)# 等于-1的时候，表示cpu里的所有core进行工作或者直接填写cpu数\n",
    "forset.fit(x, y)"
   ]
  },
  {
   "cell_type": "code",
   "execution_count": 16,
   "metadata": {},
   "outputs": [
    {
     "name": "stdout",
     "output_type": "stream",
     "text": [
      " 1) trans_fail_top_count_enum_last_6_month 0.050370\n",
      " 2) history_fail_fee               0.045400\n",
      " 3) loans_score                    0.036386\n",
      " 4) apply_score                    0.030430\n",
      " 5) latest_one_month_fail          0.024723\n",
      " 6) loans_overdue_count            0.022307\n",
      " 7) avg_consume_less_12_valid_month 0.018350\n",
      " 8) max_consume_count_later_6_month 0.018116\n",
      " 9) is_high_user                   0.016978\n",
      "10) first_transaction_day          0.016672\n",
      "11) top_trans_count_last_1_month   0.016412\n",
      "12) historical_trans_day           0.016252\n",
      "13) avg_price_top_last_12_valid_month 0.016231\n",
      "14) trans_fail_top_count_enum_last_12_month 0.016065\n",
      "15) trans_activity_month           0.015925\n",
      "16) consume_mini_time_last_1_month 0.015638\n",
      "17) latest_query_day               0.015612\n",
      "18) jewelry_consume_count_last_6_month 0.014922\n",
      "19) transd_mcc                     0.014920\n",
      "20) rank_trad_1_month              0.014903\n",
      "21) trans_day_last_12_month        0.014853\n",
      "22) consfin_avg_limit              0.014649\n",
      "23) loans_latest_day               0.014391\n",
      "24) loans_avg_limit                0.013833\n",
      "25) trans_days_interval            0.013833\n",
      "26) historical_trans_amount        0.013565\n",
      "27) history_suc_fee                0.013164\n",
      "28) consfin_credit_limit           0.013038\n",
      "29) regiol_mobility                0.012910\n",
      "30) trans_amount_3_month           0.012647\n",
      "31) cross_consume_count_last_1_month 0.012380\n",
      "32) consume_top_time_last_1_month  0.012349\n",
      "33) loans_long_time                0.012019\n",
      "34) loans_max_limit                0.011873\n",
      "35) trans_top_time_last_6_month    0.011790\n",
      "36) consfin_max_limit              0.011756\n",
      "37) loans_settle_count             0.011708\n",
      "38) apply_credibility              0.011556\n",
      "39) trans_days_interval_filter     0.011486\n",
      "40) trans_activity_day             0.011430\n",
      "41) loans_count                    0.011366\n",
      "42) consume_top_time_last_6_month  0.011360\n",
      "43) trans_amount_increase_rate_lately 0.011085\n",
      "44) loans_credit_limit             0.010879\n",
      "45) query_sum_count                0.010760\n",
      "46) latest_six_month_loan          0.010440\n",
      "47) take_amount_in_later_12_month_highest 0.010383\n",
      "48) pawns_auctions_trusts_consume_last_6_month 0.010115\n",
      "49) latest_one_month_suc           0.010053\n",
      "50) latest_six_month_apply         0.010012\n",
      "51) latest_three_month_apply       0.009980\n",
      "52) max_cumulative_consume_later_1_month 0.009935\n",
      "53) query_org_count                0.009634\n",
      "54) consfin_credibility            0.009527\n",
      "55) reg_preference_for_trad        0.009234\n",
      "56) railway_consume_count_last_12_month 0.009231\n",
      "57) loans_org_count_behavior       0.009178\n",
      "58) query_fince_count              0.008907\n",
      "59) loans_credibility_behavior     0.008768\n",
      "60) loans_credibility_limit        0.008734\n",
      "61) latest_one_month_apply         0.008467\n",
      "62) loans_product_count            0.008216\n",
      "63) latest_three_month_loan        0.008043\n",
      "64) loans_cash_count               0.007917\n",
      "65) loans_org_count_current        0.007827\n",
      "66) middle_volume_percent          0.007730\n",
      "67) consfin_product_count          0.007664\n",
      "68) query_cash_count               0.007624\n",
      "69) avg_price_last_12_month        0.007332\n",
      "70) abs                            0.007179\n",
      "71) consfin_org_count_behavior     0.006811\n",
      "72) consfin_org_count_current      0.006782\n",
      "73) repayment_capability           0.005032\n",
      "74) latest_one_month_loan          0.003824\n",
      "75) trans_fail_top_count_enum_last_1_month 0.003682\n",
      "76) trans_top_time_last_1_month    0.003272\n",
      "77) pawns_auctions_trusts_consume_last_1_month 0.000684\n",
      "78) status                         0.000250\n",
      "79) number_of_trans_from_2011      0.000241\n"
     ]
    }
   ],
   "source": [
    "# 2)输出重要特征\n",
    "importances = forset.feature_importances_\n",
    "indices = np.argsort(importances)[::-1]\n",
    "feature_labels = data.columns[1:]\n",
    "for f in range(X_train.shape[1]):\n",
    "    print(\"%2d) %-*s %f\" % (f + 1, 30, feature_labels[indices[f]], importances[indices[f]]))"
   ]
  },
  {
   "cell_type": "code",
   "execution_count": 17,
   "metadata": {},
   "outputs": [],
   "source": [
    "FI_RF = pd.DataFrame({\"Feature Importance\":forset.feature_importances_}, index=X_train.columns)"
   ]
  },
  {
   "cell_type": "code",
   "execution_count": 18,
   "metadata": {},
   "outputs": [
    {
     "data": {
      "text/plain": [
       "(array([0.  , 0.01, 0.02, 0.03, 0.04, 0.05, 0.06]),\n",
       " <a list of 7 Text xticklabel objects>)"
      ]
     },
     "execution_count": 18,
     "metadata": {},
     "output_type": "execute_result"
    }
   ],
   "source": [
    "import matplotlib.pyplot as plt\n",
    "FI_RF.sort_values('Feature Importance').plot(kind = 'barh', figsize =(15,25))\n",
    "plt.xticks(rotation = 90)"
   ]
  },
  {
   "cell_type": "code",
   "execution_count": 19,
   "metadata": {},
   "outputs": [
    {
     "name": "stdout",
     "output_type": "stream",
     "text": [
      "原数据特征数80, 通过随机森林筛选后的特征数50, 剔除了37.50%的特征\n"
     ]
    }
   ],
   "source": [
    "# 3)筛选重要特征\n",
    "threshold = 0.01\n",
    "x_selected = X_train.loc[:, importances > threshold]\n",
    "print('原数据特征数{}, 通过随机森林筛选后的特征数{}, 剔除了{:.2%}的特征'\\\n",
    "      .format(data.shape[1], x_selected.shape[1], (data.shape[1]-x_selected.shape[1])/data.shape[1]))"
   ]
  },
  {
   "cell_type": "markdown",
   "metadata": {},
   "source": [
    "### 用逻辑回归、svm和决策树；随机森林和XGBoost进行模型构建，评分方式任意，如准确率等。（不需要考虑模型调参）"
   ]
  },
  {
   "cell_type": "code",
   "execution_count": 20,
   "metadata": {},
   "outputs": [],
   "source": [
    "from sklearn.linear_model import LogisticRegression\n",
    "from sklearn.svm import SVC\n",
    "from sklearn.tree import DecisionTreeClassifier\n",
    "from sklearn.ensemble import RandomForestClassifier\n",
    "from xgboost import XGBClassifier\n",
    "\n",
    "from sklearn.model_selection import cross_val_score\n",
    "\n",
    "# 数据归一化\n",
    "from sklearn.preprocessing import minmax_scale\n",
    "X_train = minmax_scale(X_train)\n",
    "X_test =  minmax_scale(X_test)"
   ]
  },
  {
   "cell_type": "code",
   "execution_count": 21,
   "metadata": {},
   "outputs": [],
   "source": [
    "from sklearn.metrics import precision_score\n",
    "from sklearn.metrics import roc_curve\n",
    "from sklearn.metrics import recall_score\n",
    "from sklearn.metrics import f1_score\n",
    "from sklearn.metrics import roc_auc_score\n",
    "from sklearn.metrics import accuracy_score"
   ]
  },
  {
   "cell_type": "code",
   "execution_count": 22,
   "metadata": {},
   "outputs": [],
   "source": [
    "import warnings\n",
    "warnings.filterwarnings(\"ignore\")\n",
    "\n",
    "LR = LogisticRegression()\n",
    "LR.fit(X_train,y_train)\n",
    "\n",
    "svc = SVC(kernel='linear',probability=True)\n",
    "svc.fit(X_train,y_train)\n",
    "\n",
    "DT = DecisionTreeClassifier(max_depth=6)\n",
    "DT.fit(X_train,y_train)\n",
    "\n",
    "RF = RandomForestClassifier()\n",
    "RF.fit(X_train,y_train)\n",
    "\n",
    "XGB = XGBClassifier()\n",
    "XGB.fit(X_train,y_train)\n",
    "\n",
    "models = [LR,svc,DT,RF,XGB]"
   ]
  },
  {
   "cell_type": "code",
   "execution_count": 23,
   "metadata": {},
   "outputs": [],
   "source": [
    "names = [\"LR\",\"SVC\", 'DT', \"RF\",\"Xgb\"]\n",
    "evaluates = ['accuracy','precision','recall','f1','auc']"
   ]
  },
  {
   "cell_type": "code",
   "execution_count": 24,
   "metadata": {},
   "outputs": [
    {
     "name": "stdout",
     "output_type": "stream",
     "text": [
      "LR  训练集： accuracy:0.801,precision:0.749, recall:0.312, f1:0.44, auc:0.808\n",
      "LR  测试集： accuracy:0.786,precision:0.627, recall:0.37, f1:0.466, auc:0.77\n",
      "\n",
      "\n",
      "SVC  训练集： accuracy:0.796,precision:0.787, recall:0.257, f1:0.387, auc:0.816\n",
      "SVC  测试集： accuracy:0.773,precision:0.645, recall:0.217, f1:0.325, auc:0.773\n",
      "\n",
      "\n",
      "DT  训练集： accuracy:0.843,precision:0.773, recall:0.53, f1:0.629, auc:0.836\n",
      "DT  测试集： accuracy:0.641,precision:0.359, recall:0.546, f1:0.433, auc:0.671\n",
      "\n",
      "\n",
      "RF  训练集： accuracy:0.983,precision:0.997, recall:0.933, f1:0.964, auc:0.999\n",
      "RF  测试集： accuracy:0.732,precision:0.454, recall:0.329, f1:0.381, auc:0.667\n",
      "\n",
      "\n",
      "Xgb  训练集： accuracy:0.849,precision:0.861, recall:0.476, f1:0.613, auc:0.917\n",
      "Xgb  测试集： accuracy:0.77,precision:0.564, recall:0.379, f1:0.453, auc:0.757\n",
      "\n",
      "\n"
     ]
    },
    {
     "data": {
      "text/html": [
       "<div>\n",
       "<style scoped>\n",
       "    .dataframe tbody tr th:only-of-type {\n",
       "        vertical-align: middle;\n",
       "    }\n",
       "\n",
       "    .dataframe tbody tr th {\n",
       "        vertical-align: top;\n",
       "    }\n",
       "\n",
       "    .dataframe thead th {\n",
       "        text-align: right;\n",
       "    }\n",
       "</style>\n",
       "<table border=\"1\" class=\"dataframe\">\n",
       "  <thead>\n",
       "    <tr style=\"text-align: right;\">\n",
       "      <th></th>\n",
       "      <th></th>\n",
       "      <th>Accuracy</th>\n",
       "      <th>Precision</th>\n",
       "      <th>Recall</th>\n",
       "      <th>F1-Score</th>\n",
       "      <th>AUC-Score</th>\n",
       "    </tr>\n",
       "  </thead>\n",
       "  <tbody>\n",
       "    <tr>\n",
       "      <th rowspan=\"2\" valign=\"top\">LR</th>\n",
       "      <th>train</th>\n",
       "      <td>0.801323</td>\n",
       "      <td>0.749280</td>\n",
       "      <td>0.311751</td>\n",
       "      <td>0.440305</td>\n",
       "      <td>0.808443</td>\n",
       "    </tr>\n",
       "    <tr>\n",
       "      <th>test</th>\n",
       "      <td>0.786265</td>\n",
       "      <td>0.627358</td>\n",
       "      <td>0.370474</td>\n",
       "      <td>0.465849</td>\n",
       "      <td>0.770310</td>\n",
       "    </tr>\n",
       "    <tr>\n",
       "      <th rowspan=\"2\" valign=\"top\">SVC</th>\n",
       "      <th>train</th>\n",
       "      <td>0.796213</td>\n",
       "      <td>0.786765</td>\n",
       "      <td>0.256595</td>\n",
       "      <td>0.386980</td>\n",
       "      <td>0.816115</td>\n",
       "    </tr>\n",
       "    <tr>\n",
       "      <th>test</th>\n",
       "      <td>0.772950</td>\n",
       "      <td>0.644628</td>\n",
       "      <td>0.217270</td>\n",
       "      <td>0.325000</td>\n",
       "      <td>0.773007</td>\n",
       "    </tr>\n",
       "    <tr>\n",
       "      <th rowspan=\"2\" valign=\"top\">DT</th>\n",
       "      <th>train</th>\n",
       "      <td>0.843102</td>\n",
       "      <td>0.772727</td>\n",
       "      <td>0.529976</td>\n",
       "      <td>0.628734</td>\n",
       "      <td>0.835945</td>\n",
       "    </tr>\n",
       "    <tr>\n",
       "      <th>test</th>\n",
       "      <td>0.640505</td>\n",
       "      <td>0.358974</td>\n",
       "      <td>0.545961</td>\n",
       "      <td>0.433149</td>\n",
       "      <td>0.671361</td>\n",
       "    </tr>\n",
       "    <tr>\n",
       "      <th rowspan=\"2\" valign=\"top\">RF</th>\n",
       "      <th>train</th>\n",
       "      <td>0.982567</td>\n",
       "      <td>0.997436</td>\n",
       "      <td>0.932854</td>\n",
       "      <td>0.964064</td>\n",
       "      <td>0.999426</td>\n",
       "    </tr>\n",
       "    <tr>\n",
       "      <th>test</th>\n",
       "      <td>0.731605</td>\n",
       "      <td>0.453846</td>\n",
       "      <td>0.328691</td>\n",
       "      <td>0.381260</td>\n",
       "      <td>0.666571</td>\n",
       "    </tr>\n",
       "    <tr>\n",
       "      <th rowspan=\"2\" valign=\"top\">Xgb</th>\n",
       "      <th>train</th>\n",
       "      <td>0.849414</td>\n",
       "      <td>0.861171</td>\n",
       "      <td>0.476019</td>\n",
       "      <td>0.613127</td>\n",
       "      <td>0.916829</td>\n",
       "    </tr>\n",
       "    <tr>\n",
       "      <th>test</th>\n",
       "      <td>0.770147</td>\n",
       "      <td>0.564315</td>\n",
       "      <td>0.378830</td>\n",
       "      <td>0.453333</td>\n",
       "      <td>0.756763</td>\n",
       "    </tr>\n",
       "  </tbody>\n",
       "</table>\n",
       "</div>"
      ],
      "text/plain": [
       "           Accuracy  Precision    Recall  F1-Score  AUC-Score\n",
       "LR  train  0.801323   0.749280  0.311751  0.440305   0.808443\n",
       "    test   0.786265   0.627358  0.370474  0.465849   0.770310\n",
       "SVC train  0.796213   0.786765  0.256595  0.386980   0.816115\n",
       "    test   0.772950   0.644628  0.217270  0.325000   0.773007\n",
       "DT  train  0.843102   0.772727  0.529976  0.628734   0.835945\n",
       "    test   0.640505   0.358974  0.545961  0.433149   0.671361\n",
       "RF  train  0.982567   0.997436  0.932854  0.964064   0.999426\n",
       "    test   0.731605   0.453846  0.328691  0.381260   0.666571\n",
       "Xgb train  0.849414   0.861171  0.476019  0.613127   0.916829\n",
       "    test   0.770147   0.564315  0.378830  0.453333   0.756763"
      ]
     },
     "execution_count": 24,
     "metadata": {},
     "output_type": "execute_result"
    }
   ],
   "source": [
    "df_list = []\n",
    "for name,model in zip(names,models):\n",
    "    \n",
    "    y_train_pred = model.predict(X_train)\n",
    "    y_test_pred = model.predict(X_test)\n",
    "    \n",
    "    #accuracy\n",
    "    train_accuracy = model.score(X_train,y_train)\n",
    "    test_accuracy = model.score(X_test,y_test)\n",
    "    #precision   \n",
    "    train_precision = precision_score(y_train,y_train_pred)\n",
    "    test_precision = precision_score(y_test,y_test_pred)   \n",
    "    #recall\n",
    "    train_recall = recall_score(y_train,y_train_pred)\n",
    "    test_recall = recall_score(y_test,y_test_pred)   \n",
    "    #f1\n",
    "    train_f1 = f1_score(y_train,y_train_pred)\n",
    "    test_f1 = f1_score(y_test,y_test_pred)   \n",
    "    #auc 计算时，计算的应该是不同的概率画出来的曲线下的面积,而不是预测值对应的曲线下的面积\n",
    "    #预测值 分类模型，应该全是0 或者 1 ，但是概率是类似于得分一样的值\n",
    "    #根据资料貌似两种都行，都可以作为阈值来进行ROC曲线的绘制\n",
    "    y_train_pred = model.predict_proba(X_train)[:,1]\n",
    "    y_test_pred = model.predict_proba(X_test)[:,1]\n",
    "    \n",
    "    train_auc = roc_auc_score(y_train,y_train_pred)\n",
    "    test_auc = roc_auc_score(y_test,y_test_pred)\n",
    "    print('{}  训练集： accuracy:{:.3},precision:{:.3}, recall:{:.3}, f1:{:.3}, auc:{:.3}'.format(name,train_accuracy,train_precision,train_recall,train_f1,train_auc))\n",
    "    print('{}  测试集： accuracy:{:.3},precision:{:.3}, recall:{:.3}, f1:{:.3}, auc:{:.3}'.format(name,test_accuracy,test_precision,test_recall,test_f1,test_auc))\n",
    "    print('\\n')\n",
    "    df = pd.DataFrame(np.array([train_accuracy,train_precision,train_recall,train_f1,train_auc,test_accuracy,test_precision,test_recall,test_f1,test_auc]).reshape(2,-1),\n",
    "                  index = ['train','test'],\n",
    "                  columns = ['Accuracy','Precision','Recall','F1-Score','AUC-Score'])\n",
    "    df_list.append(df)\n",
    "\n",
    "pd.concat(df_list,axis=0,keys=names)"
   ]
  },
  {
   "cell_type": "code",
   "execution_count": 25,
   "metadata": {},
   "outputs": [
    {
     "data": {
      "image/png": "[encoded data removed]",
      "text/plain": [
       "<Figure size 432x288 with 1 Axes>"
      ]
     },
     "metadata": {
      "needs_background": "light"
     },
     "output_type": "display_data"
    },
    {
     "data": {
      "image/png": "[encoded data removed]",
      "text/plain": [
       "<Figure size 432x288 with 1 Axes>"
      ]
     },
     "metadata": {
      "needs_background": "light"
     },
     "output_type": "display_data"
    },
    {
     "data": {
      "image/png": "[encoded data removed]",
      "text/plain": [
       "<Figure size 432x288 with 1 Axes>"
      ]
     },
     "metadata": {
      "needs_background": "light"
     },
     "output_type": "display_data"
    },
    {
     "data": {
      "image/png": "[encoded data removed]",
      "text/plain": [
       "<Figure size 432x288 with 1 Axes>"
      ]
     },
     "metadata": {
      "needs_background": "light"
     },
     "output_type": "display_data"
    },
    {
     "data": {
      "image/png": "[encoded data removed]",
      "text/plain": [
       "<Figure size 432x288 with 1 Axes>"
      ]
     },
     "metadata": {
      "needs_background": "light"
     },
     "output_type": "display_data"
    }
   ],
   "source": [
    "def draw_roc_curve(train_pre_proba,test_pre_proba,train_auc,test_auc,model_name):\n",
    "    fpr,tpr,roc_auc = train_pre_proba\n",
    "    test_fpr,test_tpr,test_roc_auc = test_pre_proba\n",
    "    \n",
    "    plt.figure()\n",
    "    lw = 2\n",
    "    plt.plot(fpr, tpr, color='darkorange',\n",
    "             lw=lw, label='ROC curve (area = %0.2f)' % train_auc)\n",
    "    plt.plot(test_fpr, test_tpr, color='red',\n",
    "         lw=lw, label='ROC curve (area = %0.2f)' %test_auc)\n",
    "    plt.plot([0, 1], [0, 1], color='navy', lw=lw, linestyle='--')\n",
    "    #plt.xlim([0.0, 1.0])\n",
    "    #plt.ylim([0.0, 1.05])\n",
    "    plt.xlabel('False Positive Rate')\n",
    "    plt.ylabel('True Positive Rate')\n",
    "    plt.title('Roc example '+ model_name)\n",
    "    plt.legend(loc=\"lower right\")\n",
    "    plt.show()\n",
    "for name,model in zip(names,models):\n",
    "    \n",
    "    y_train_pred = model.predict_proba(X_train)[:,1]\n",
    "    y_test_pred = model.predict_proba(X_test)[:,1]\n",
    "\n",
    "\n",
    "    train_roc = roc_curve(y_train,y_train_pred)\n",
    "    test_roc = roc_curve(y_test,y_test_pred)\n",
    "\n",
    "    train_auc = roc_auc_score(y_train,y_train_pred)\n",
    "    test_auc = roc_auc_score(y_test,y_test_pred)\n",
    "    \n",
    "\n",
    "    draw_roc_curve(train_roc,test_roc,train_auc,test_auc,name)"
   ]
  },
  {
   "cell_type": "markdown",
   "metadata": {},
   "source": [
    "**结论：**\n",
    "可以明显看到，随机森林明显过拟合，XGB拟合也比较严重\n",
    "ROC针对的是二分类问题，对于多酚类问题需要转化为二分类问题\n",
    "\n",
    "**Refenerces：**\n",
    "\n",
    "[使用5种分类模型进行用户贷款逾期预测](http://yezuolin.com/2018/11/TheModelofUserLoanOverdueEvaluation/)\n",
    "\n",
    "[客户贷款逾期预测\\[2\\]-svm和决策树模型](https://blog.csdn.net/truffle528/article/details/84168200)\n",
    "\n",
    "[LittleSix](https://github.com/LittleSix1/Datawhale/blob/master/Datawhale.ipynb)\n"
   ]
  },
  {
   "cell_type": "markdown",
   "metadata": {},
   "source": [
    "# 参数调优"
   ]
  },
  {
   "cell_type": "code",
   "execution_count": 26,
   "metadata": {},
   "outputs": [
    {
     "data": {
      "text/plain": [
       "GridSearchCV(cv=5, error_score='raise-deprecating',\n",
       "             estimator=RandomForestClassifier(bootstrap=True, class_weight=None,\n",
       "                                              criterion='gini', max_depth=None,\n",
       "                                              max_features='auto',\n",
       "                                              max_leaf_nodes=None,\n",
       "                                              min_impurity_decrease=0.0,\n",
       "                                              min_impurity_split=None,\n",
       "                                              min_samples_leaf=1,\n",
       "                                              min_samples_split=2,\n",
       "                                              min_weight_fraction_leaf=0.0,\n",
       "                                              n_estimators='warn', n_jobs=None,\n",
       "                                              oob_score=False,\n",
       "                                              random_state=None, verbose=0,\n",
       "                                              warm_start=False),\n",
       "             iid='warn', n_jobs=None,\n",
       "             param_grid={'max_depth': [2, 3], 'n_estimators': [10, 100]},\n",
       "             pre_dispatch='2*n_jobs', refit=True, return_train_score=False,\n",
       "             scoring=None, verbose=0)"
      ]
     },
     "execution_count": 26,
     "metadata": {},
     "output_type": "execute_result"
    }
   ],
   "source": [
    "from sklearn.model_selection import  GridSearchCV\n",
    "from sklearn.decomposition import PCA\n",
    "from sklearn.ensemble import RandomForestClassifier\n",
    "model = RandomForestClassifier()\n",
    "param = {'n_estimators':[10,100],'max_depth':[2,3]}\n",
    "clf = GridSearchCV(model,param_grid = param,cv=5)\n",
    "clf.fit(X_train,y_train)"
   ]
  },
  {
   "cell_type": "code",
   "execution_count": 27,
   "metadata": {},
   "outputs": [
    {
     "data": {
      "text/plain": [
       "{'mean_fit_time': array([0.05760179, 0.51990914, 0.10039725, 0.5636724 ]),\n",
       " 'std_fit_time': array([0.00964469, 0.03417363, 0.0138364 , 0.16216809]),\n",
       " 'mean_score_time': array([0.01032591, 0.03184624, 0.0122499 , 0.02646136]),\n",
       " 'std_score_time': array([0.00307743, 0.00439319, 0.00294566, 0.00434501]),\n",
       " 'param_max_depth': masked_array(data=[2, 2, 3, 3],\n",
       "              mask=[False, False, False, False],\n",
       "        fill_value='?',\n",
       "             dtype=object),\n",
       " 'param_n_estimators': masked_array(data=[10, 100, 10, 100],\n",
       "              mask=[False, False, False, False],\n",
       "        fill_value='?',\n",
       "             dtype=object),\n",
       " 'params': [{'max_depth': 2, 'n_estimators': 10},\n",
       "  {'max_depth': 2, 'n_estimators': 100},\n",
       "  {'max_depth': 3, 'n_estimators': 10},\n",
       "  {'max_depth': 3, 'n_estimators': 100}],\n",
       " 'split0_test_score': array([0.76126126, 0.76276276, 0.77327327, 0.77327327]),\n",
       " 'split1_test_score': array([0.75075075, 0.75675676, 0.77477477, 0.76276276]),\n",
       " 'split2_test_score': array([0.76726727, 0.75975976, 0.77027027, 0.77327327]),\n",
       " 'split3_test_score': array([0.7593985 , 0.76240602, 0.77744361, 0.77142857]),\n",
       " 'split4_test_score': array([0.7560241 , 0.75301205, 0.77409639, 0.76957831]),\n",
       " 'mean_test_score': array([0.75894199, 0.75894199, 0.77397054, 0.77006312]),\n",
       " 'std_test_score': array([0.0054885 , 0.0036645 , 0.00231987, 0.00390051]),\n",
       " 'rank_test_score': array([3, 3, 1, 2], dtype=int32)}"
      ]
     },
     "execution_count": 27,
     "metadata": {},
     "output_type": "execute_result"
    }
   ],
   "source": [
    "clf.cv_results_"
   ]
  },
  {
   "cell_type": "code",
   "execution_count": 28,
   "metadata": {},
   "outputs": [
    {
     "name": "stdout",
     "output_type": "stream",
     "text": [
      "{'max_depth': 3, 'n_estimators': 10} 0.7739705440336639\n"
     ]
    },
    {
     "data": {
      "text/html": [
       "<div>\n",
       "<style scoped>\n",
       "    .dataframe tbody tr th:only-of-type {\n",
       "        vertical-align: middle;\n",
       "    }\n",
       "\n",
       "    .dataframe tbody tr th {\n",
       "        vertical-align: top;\n",
       "    }\n",
       "\n",
       "    .dataframe thead th {\n",
       "        text-align: right;\n",
       "    }\n",
       "</style>\n",
       "<table border=\"1\" class=\"dataframe\">\n",
       "  <thead>\n",
       "    <tr style=\"text-align: right;\">\n",
       "      <th></th>\n",
       "      <th>params</th>\n",
       "      <th>mean_test_score</th>\n",
       "      <th>std_test_score</th>\n",
       "    </tr>\n",
       "  </thead>\n",
       "  <tbody>\n",
       "    <tr>\n",
       "      <th>0</th>\n",
       "      <td>{'max_depth': 2, 'n_estimators': 10}</td>\n",
       "      <td>0.758942</td>\n",
       "      <td>0.005488</td>\n",
       "    </tr>\n",
       "    <tr>\n",
       "      <th>1</th>\n",
       "      <td>{'max_depth': 2, 'n_estimators': 100}</td>\n",
       "      <td>0.758942</td>\n",
       "      <td>0.003665</td>\n",
       "    </tr>\n",
       "    <tr>\n",
       "      <th>2</th>\n",
       "      <td>{'max_depth': 3, 'n_estimators': 10}</td>\n",
       "      <td>0.773971</td>\n",
       "      <td>0.002320</td>\n",
       "    </tr>\n",
       "    <tr>\n",
       "      <th>3</th>\n",
       "      <td>{'max_depth': 3, 'n_estimators': 100}</td>\n",
       "      <td>0.770063</td>\n",
       "      <td>0.003901</td>\n",
       "    </tr>\n",
       "  </tbody>\n",
       "</table>\n",
       "</div>"
      ],
      "text/plain": [
       "                                  params  mean_test_score  std_test_score\n",
       "0   {'max_depth': 2, 'n_estimators': 10}         0.758942        0.005488\n",
       "1  {'max_depth': 2, 'n_estimators': 100}         0.758942        0.003665\n",
       "2   {'max_depth': 3, 'n_estimators': 10}         0.773971        0.002320\n",
       "3  {'max_depth': 3, 'n_estimators': 100}         0.770063        0.003901"
      ]
     },
     "execution_count": 28,
     "metadata": {},
     "output_type": "execute_result"
    }
   ],
   "source": [
    "print(clf.best_params_,clf.best_score_)\n",
    "(pd.DataFrame(clf.cv_results_)[['params','mean_test_score','std_test_score']])"
   ]
  },
  {
   "cell_type": "markdown",
   "metadata": {},
   "source": [
    "- 定义函数，方便后期直接调用"
   ]
  },
  {
   "cell_type": "code",
   "execution_count": 29,
   "metadata": {},
   "outputs": [],
   "source": [
    "class grid():\n",
    "    def __init__(self,model):\n",
    "        self.model = model\n",
    "    def grid_get(self,X,y,param_grid):\n",
    "        \n",
    "        grid_search = GridSearchCV(self.model,param_grid,cv=5,scoring='accuracy',refit = False)\n",
    "        #refit参数 交叉验证结束后是否还会用最好的参数进行fit，可以加入predict函数来测试一下\n",
    "        grid_search.fit(X,y)\n",
    "        \n",
    "        print(grid_search.best_params_,grid_search.best_score_)\n",
    "        \n",
    "        return pd.DataFrame(grid_search.cv_results_)[['params','mean_test_score','std_test_score']]"
   ]
  },
  {
   "cell_type": "markdown",
   "metadata": {},
   "source": [
    "### SVM"
   ]
  },
  {
   "cell_type": "code",
   "execution_count": 30,
   "metadata": {},
   "outputs": [
    {
     "name": "stdout",
     "output_type": "stream",
     "text": [
      "{'C': 0.1, 'kernel': 'linear'} 0.7493237150586114\n"
     ]
    },
    {
     "data": {
      "text/html": [
       "<div>\n",
       "<style scoped>\n",
       "    .dataframe tbody tr th:only-of-type {\n",
       "        vertical-align: middle;\n",
       "    }\n",
       "\n",
       "    .dataframe tbody tr th {\n",
       "        vertical-align: top;\n",
       "    }\n",
       "\n",
       "    .dataframe thead th {\n",
       "        text-align: right;\n",
       "    }\n",
       "</style>\n",
       "<table border=\"1\" class=\"dataframe\">\n",
       "  <thead>\n",
       "    <tr style=\"text-align: right;\">\n",
       "      <th></th>\n",
       "      <th>params</th>\n",
       "      <th>mean_test_score</th>\n",
       "      <th>std_test_score</th>\n",
       "    </tr>\n",
       "  </thead>\n",
       "  <tbody>\n",
       "    <tr>\n",
       "      <th>0</th>\n",
       "      <td>{'C': 0.1, 'kernel': 'linear'}</td>\n",
       "      <td>0.749324</td>\n",
       "      <td>0.000368</td>\n",
       "    </tr>\n",
       "    <tr>\n",
       "      <th>1</th>\n",
       "      <td>{'C': 1, 'kernel': 'linear'}</td>\n",
       "      <td>0.749324</td>\n",
       "      <td>0.000368</td>\n",
       "    </tr>\n",
       "    <tr>\n",
       "      <th>2</th>\n",
       "      <td>{'C': 10, 'kernel': 'linear'}</td>\n",
       "      <td>0.749324</td>\n",
       "      <td>0.000368</td>\n",
       "    </tr>\n",
       "  </tbody>\n",
       "</table>\n",
       "</div>"
      ],
      "text/plain": [
       "                           params  mean_test_score  std_test_score\n",
       "0  {'C': 0.1, 'kernel': 'linear'}         0.749324        0.000368\n",
       "1    {'C': 1, 'kernel': 'linear'}         0.749324        0.000368\n",
       "2   {'C': 10, 'kernel': 'linear'}         0.749324        0.000368"
      ]
     },
     "execution_count": 30,
     "metadata": {},
     "output_type": "execute_result"
    }
   ],
   "source": [
    "# 这里对训练和测试集进行一个PCA 减少运行时间  用线性核时间很短 用lbf貌似收敛不了\n",
    "\n",
    "pca = PCA(n_components=10)\n",
    "X_train = pca.fit_transform(X_train)\n",
    "X_test = pca.transform(X_test)\n",
    "grid(SVC()).grid_get(X_train,y_train,{'kernel':['linear'],'C':[0.1,1,10]})"
   ]
  },
  {
   "cell_type": "markdown",
   "metadata": {},
   "source": [
    "### Logistic Regission"
   ]
  },
  {
   "cell_type": "code",
   "execution_count": 31,
   "metadata": {},
   "outputs": [
    {
     "name": "stdout",
     "output_type": "stream",
     "text": [
      "{'penalty': 'l2', 'solver': 'lbfgs'} 0.7661556958220619\n"
     ]
    },
    {
     "data": {
      "text/html": [
       "<div>\n",
       "<style scoped>\n",
       "    .dataframe tbody tr th:only-of-type {\n",
       "        vertical-align: middle;\n",
       "    }\n",
       "\n",
       "    .dataframe tbody tr th {\n",
       "        vertical-align: top;\n",
       "    }\n",
       "\n",
       "    .dataframe thead th {\n",
       "        text-align: right;\n",
       "    }\n",
       "</style>\n",
       "<table border=\"1\" class=\"dataframe\">\n",
       "  <thead>\n",
       "    <tr style=\"text-align: right;\">\n",
       "      <th></th>\n",
       "      <th>params</th>\n",
       "      <th>mean_test_score</th>\n",
       "      <th>std_test_score</th>\n",
       "    </tr>\n",
       "  </thead>\n",
       "  <tbody>\n",
       "    <tr>\n",
       "      <th>0</th>\n",
       "      <td>{'penalty': 'l2', 'solver': 'lbfgs'}</td>\n",
       "      <td>0.766156</td>\n",
       "      <td>0.005889</td>\n",
       "    </tr>\n",
       "    <tr>\n",
       "      <th>1</th>\n",
       "      <td>{'penalty': 'l2', 'solver': 'liblinear'}</td>\n",
       "      <td>0.765855</td>\n",
       "      <td>0.005627</td>\n",
       "    </tr>\n",
       "    <tr>\n",
       "      <th>2</th>\n",
       "      <td>{'penalty': 'l2', 'solver': 'sag'}</td>\n",
       "      <td>0.766156</td>\n",
       "      <td>0.005889</td>\n",
       "    </tr>\n",
       "  </tbody>\n",
       "</table>\n",
       "</div>"
      ],
      "text/plain": [
       "                                     params  mean_test_score  std_test_score\n",
       "0      {'penalty': 'l2', 'solver': 'lbfgs'}         0.766156        0.005889\n",
       "1  {'penalty': 'l2', 'solver': 'liblinear'}         0.765855        0.005627\n",
       "2        {'penalty': 'l2', 'solver': 'sag'}         0.766156        0.005889"
      ]
     },
     "execution_count": 31,
     "metadata": {},
     "output_type": "execute_result"
    }
   ],
   "source": [
    "# logistic regission\n",
    "grid(LogisticRegression()).grid_get(X_train,y_train,{'penalty':['l2'],'solver':[ 'lbfgs', 'liblinear','sag']})"
   ]
  },
  {
   "cell_type": "markdown",
   "metadata": {},
   "source": [
    "### Decision Tree"
   ]
  },
  {
   "cell_type": "code",
   "execution_count": 32,
   "metadata": {},
   "outputs": [
    {
     "name": "stdout",
     "output_type": "stream",
     "text": [
      "{'max_depth': 6} 0.7400060114217012\n"
     ]
    },
    {
     "data": {
      "text/html": [
       "<div>\n",
       "<style scoped>\n",
       "    .dataframe tbody tr th:only-of-type {\n",
       "        vertical-align: middle;\n",
       "    }\n",
       "\n",
       "    .dataframe tbody tr th {\n",
       "        vertical-align: top;\n",
       "    }\n",
       "\n",
       "    .dataframe thead th {\n",
       "        text-align: right;\n",
       "    }\n",
       "</style>\n",
       "<table border=\"1\" class=\"dataframe\">\n",
       "  <thead>\n",
       "    <tr style=\"text-align: right;\">\n",
       "      <th></th>\n",
       "      <th>params</th>\n",
       "      <th>mean_test_score</th>\n",
       "      <th>std_test_score</th>\n",
       "    </tr>\n",
       "  </thead>\n",
       "  <tbody>\n",
       "    <tr>\n",
       "      <th>0</th>\n",
       "      <td>{'max_depth': 4}</td>\n",
       "      <td>0.736399</td>\n",
       "      <td>0.010247</td>\n",
       "    </tr>\n",
       "    <tr>\n",
       "      <th>1</th>\n",
       "      <td>{'max_depth': 5}</td>\n",
       "      <td>0.739405</td>\n",
       "      <td>0.005607</td>\n",
       "    </tr>\n",
       "    <tr>\n",
       "      <th>2</th>\n",
       "      <td>{'max_depth': 6}</td>\n",
       "      <td>0.740006</td>\n",
       "      <td>0.011981</td>\n",
       "    </tr>\n",
       "    <tr>\n",
       "      <th>3</th>\n",
       "      <td>{'max_depth': 7}</td>\n",
       "      <td>0.727081</td>\n",
       "      <td>0.008040</td>\n",
       "    </tr>\n",
       "    <tr>\n",
       "      <th>4</th>\n",
       "      <td>{'max_depth': 8}</td>\n",
       "      <td>0.714457</td>\n",
       "      <td>0.002687</td>\n",
       "    </tr>\n",
       "  </tbody>\n",
       "</table>\n",
       "</div>"
      ],
      "text/plain": [
       "             params  mean_test_score  std_test_score\n",
       "0  {'max_depth': 4}         0.736399        0.010247\n",
       "1  {'max_depth': 5}         0.739405        0.005607\n",
       "2  {'max_depth': 6}         0.740006        0.011981\n",
       "3  {'max_depth': 7}         0.727081        0.008040\n",
       "4  {'max_depth': 8}         0.714457        0.002687"
      ]
     },
     "execution_count": 32,
     "metadata": {},
     "output_type": "execute_result"
    }
   ],
   "source": [
    "# Decision Tree\n",
    "grid(DecisionTreeClassifier()).grid_get(X_train,y_train,{'max_depth':[4,5,6,7,8]})"
   ]
  },
  {
   "cell_type": "markdown",
   "metadata": {},
   "source": [
    "### 随机森林"
   ]
  },
  {
   "cell_type": "code",
   "execution_count": 33,
   "metadata": {},
   "outputs": [
    {
     "name": "stdout",
     "output_type": "stream",
     "text": [
      "{'max_depth': 3, 'n_estimators': 10} 0.7499248572287346\n"
     ]
    },
    {
     "data": {
      "text/html": [
       "<div>\n",
       "<style scoped>\n",
       "    .dataframe tbody tr th:only-of-type {\n",
       "        vertical-align: middle;\n",
       "    }\n",
       "\n",
       "    .dataframe tbody tr th {\n",
       "        vertical-align: top;\n",
       "    }\n",
       "\n",
       "    .dataframe thead th {\n",
       "        text-align: right;\n",
       "    }\n",
       "</style>\n",
       "<table border=\"1\" class=\"dataframe\">\n",
       "  <thead>\n",
       "    <tr style=\"text-align: right;\">\n",
       "      <th></th>\n",
       "      <th>params</th>\n",
       "      <th>mean_test_score</th>\n",
       "      <th>std_test_score</th>\n",
       "    </tr>\n",
       "  </thead>\n",
       "  <tbody>\n",
       "    <tr>\n",
       "      <th>0</th>\n",
       "      <td>{'max_depth': 2, 'n_estimators': 10}</td>\n",
       "      <td>0.749324</td>\n",
       "      <td>0.000368</td>\n",
       "    </tr>\n",
       "    <tr>\n",
       "      <th>1</th>\n",
       "      <td>{'max_depth': 2, 'n_estimators': 100}</td>\n",
       "      <td>0.749324</td>\n",
       "      <td>0.000368</td>\n",
       "    </tr>\n",
       "    <tr>\n",
       "      <th>2</th>\n",
       "      <td>{'max_depth': 3, 'n_estimators': 10}</td>\n",
       "      <td>0.749925</td>\n",
       "      <td>0.001936</td>\n",
       "    </tr>\n",
       "    <tr>\n",
       "      <th>3</th>\n",
       "      <td>{'max_depth': 3, 'n_estimators': 100}</td>\n",
       "      <td>0.749324</td>\n",
       "      <td>0.000368</td>\n",
       "    </tr>\n",
       "  </tbody>\n",
       "</table>\n",
       "</div>"
      ],
      "text/plain": [
       "                                  params  mean_test_score  std_test_score\n",
       "0   {'max_depth': 2, 'n_estimators': 10}         0.749324        0.000368\n",
       "1  {'max_depth': 2, 'n_estimators': 100}         0.749324        0.000368\n",
       "2   {'max_depth': 3, 'n_estimators': 10}         0.749925        0.001936\n",
       "3  {'max_depth': 3, 'n_estimators': 100}         0.749324        0.000368"
      ]
     },
     "execution_count": 33,
     "metadata": {},
     "output_type": "execute_result"
    }
   ],
   "source": [
    "# Random Forest\n",
    "grid(RandomForestClassifier()).grid_get(X_train,y_train,{'n_estimators':[10,100],'max_depth':[2,3]})"
   ]
  },
  {
   "cell_type": "markdown",
   "metadata": {},
   "source": [
    "### Xgboost"
   ]
  },
  {
   "cell_type": "code",
   "execution_count": 34,
   "metadata": {},
   "outputs": [
    {
     "name": "stdout",
     "output_type": "stream",
     "text": [
      "{'learning_rate': 0.1, 'max_depth': 3, 'n_estimators': 50} 0.7631499849714457\n"
     ]
    },
    {
     "data": {
      "text/html": [
       "<div>\n",
       "<style scoped>\n",
       "    .dataframe tbody tr th:only-of-type {\n",
       "        vertical-align: middle;\n",
       "    }\n",
       "\n",
       "    .dataframe tbody tr th {\n",
       "        vertical-align: top;\n",
       "    }\n",
       "\n",
       "    .dataframe thead th {\n",
       "        text-align: right;\n",
       "    }\n",
       "</style>\n",
       "<table border=\"1\" class=\"dataframe\">\n",
       "  <thead>\n",
       "    <tr style=\"text-align: right;\">\n",
       "      <th></th>\n",
       "      <th>params</th>\n",
       "      <th>mean_test_score</th>\n",
       "      <th>std_test_score</th>\n",
       "    </tr>\n",
       "  </thead>\n",
       "  <tbody>\n",
       "    <tr>\n",
       "      <th>0</th>\n",
       "      <td>{'learning_rate': 0.1, 'max_depth': 3, 'n_esti...</td>\n",
       "      <td>0.763150</td>\n",
       "      <td>0.003706</td>\n",
       "    </tr>\n",
       "    <tr>\n",
       "      <th>1</th>\n",
       "      <td>{'learning_rate': 0.1, 'max_depth': 3, 'n_esti...</td>\n",
       "      <td>0.759844</td>\n",
       "      <td>0.005076</td>\n",
       "    </tr>\n",
       "    <tr>\n",
       "      <th>2</th>\n",
       "      <td>{'learning_rate': 0.1, 'max_depth': 4, 'n_esti...</td>\n",
       "      <td>0.761948</td>\n",
       "      <td>0.002258</td>\n",
       "    </tr>\n",
       "    <tr>\n",
       "      <th>3</th>\n",
       "      <td>{'learning_rate': 0.1, 'max_depth': 4, 'n_esti...</td>\n",
       "      <td>0.758641</td>\n",
       "      <td>0.003396</td>\n",
       "    </tr>\n",
       "    <tr>\n",
       "      <th>4</th>\n",
       "      <td>{'learning_rate': 1, 'max_depth': 3, 'n_estima...</td>\n",
       "      <td>0.719567</td>\n",
       "      <td>0.007425</td>\n",
       "    </tr>\n",
       "    <tr>\n",
       "      <th>5</th>\n",
       "      <td>{'learning_rate': 1, 'max_depth': 3, 'n_estima...</td>\n",
       "      <td>0.709949</td>\n",
       "      <td>0.006785</td>\n",
       "    </tr>\n",
       "    <tr>\n",
       "      <th>6</th>\n",
       "      <td>{'learning_rate': 1, 'max_depth': 4, 'n_estima...</td>\n",
       "      <td>0.709648</td>\n",
       "      <td>0.015903</td>\n",
       "    </tr>\n",
       "    <tr>\n",
       "      <th>7</th>\n",
       "      <td>{'learning_rate': 1, 'max_depth': 4, 'n_estima...</td>\n",
       "      <td>0.708747</td>\n",
       "      <td>0.016210</td>\n",
       "    </tr>\n",
       "  </tbody>\n",
       "</table>\n",
       "</div>"
      ],
      "text/plain": [
       "                                              params  mean_test_score  \\\n",
       "0  {'learning_rate': 0.1, 'max_depth': 3, 'n_esti...         0.763150   \n",
       "1  {'learning_rate': 0.1, 'max_depth': 3, 'n_esti...         0.759844   \n",
       "2  {'learning_rate': 0.1, 'max_depth': 4, 'n_esti...         0.761948   \n",
       "3  {'learning_rate': 0.1, 'max_depth': 4, 'n_esti...         0.758641   \n",
       "4  {'learning_rate': 1, 'max_depth': 3, 'n_estima...         0.719567   \n",
       "5  {'learning_rate': 1, 'max_depth': 3, 'n_estima...         0.709949   \n",
       "6  {'learning_rate': 1, 'max_depth': 4, 'n_estima...         0.709648   \n",
       "7  {'learning_rate': 1, 'max_depth': 4, 'n_estima...         0.708747   \n",
       "\n",
       "   std_test_score  \n",
       "0        0.003706  \n",
       "1        0.005076  \n",
       "2        0.002258  \n",
       "3        0.003396  \n",
       "4        0.007425  \n",
       "5        0.006785  \n",
       "6        0.015903  \n",
       "7        0.016210  "
      ]
     },
     "execution_count": 34,
     "metadata": {},
     "output_type": "execute_result"
    }
   ],
   "source": [
    "grid(XGBClassifier()).grid_get(X_train,y_train,{'max_depth':[3,4], 'learning_rate':[0.1,1], 'n_estimators':[50,100]})"
   ]
  },
  {
   "cell_type": "markdown",
   "metadata": {},
   "source": [
    "## 模型融合"
   ]
  },
  {
   "cell_type": "code",
   "execution_count": 35,
   "metadata": {},
   "outputs": [],
   "source": [
    "from sklearn.base import BaseEstimator,TransformerMixin,RegressorMixin,clone\n",
    "from sklearn.model_selection import KFold"
   ]
  },
  {
   "cell_type": "code",
   "execution_count": 36,
   "metadata": {},
   "outputs": [],
   "source": [
    "class stacking(BaseEstimator,RegressorMixin,TransformerMixin):\n",
    "    def __init__(self,mod,meta_model):\n",
    "        self.mod = mod\n",
    "        self.meta_model = meta_model\n",
    "        self.kf = KFold(n_splits=5,random_state=42,shuffle=True)\n",
    "    \n",
    "    def fit(self,X,y):\n",
    "        self.saved_model = [list() for i in self.mod]\n",
    "        oof_train  =  np.zeros((X.shape[0],len(self.mod)))\n",
    "        \n",
    "        for i , model in enumerate(self.mod):\n",
    "            for train_index,val_index in self.kf.split(X,y): \n",
    "                renew_model = clone(model)\n",
    "                renew_model.fit(X[train_index], y[train_index])\n",
    "                self.saved_model[i].append(renew_model)\n",
    "                oof_train[val_index,i] = renew_model.predict(X[val_index])\n",
    "        self.meta_model.fit(oof_train,y)\n",
    "        return self\n",
    "    \n",
    "    def predict(self,X):\n",
    "        \n",
    "        whole_test = np.column_stack([np.column_stack([model.predict(X) for model  in single_model]).mean(axis = 1) for single_model in self.saved_model])\n",
    "        return self.meta_model.predict(whole_test)\n",
    "        #该步骤 分解见下面\n",
    "        '''\n",
    "        saved_model = [ ['lasso','lasso','lasso','lasso','lasso'],\n",
    "               ['lasso','ridge','ridge','ridge','lasso'] ,\n",
    "              ['lasso','ridge','ridge','ridge','lasso'] ,\n",
    "              ['lasso','ridge','ridge','ridge','lasso'] ,\n",
    "              ['lasso','ridge','ridge','ridge','lasso'] ,\n",
    "              ['lasso','ridge','ridge','ridge','lasso'] ,]\n",
    "        X = np.arange(10).reshape(-1,1)\n",
    "        [X for single in model]\n",
    "        np.column_stack([X for single in model])()\n",
    "        np.column_stack([X for single in model]).mean(axis = 1)\n",
    "        [np.column_stack([X for single in model]).mean(axis = 1) for model in saved_model]\n",
    "        np.column_stack([np.column_stack([X for single in model]).mean(axis = 1) for model in saved_model])\n",
    "        \n",
    "        '''\n",
    "          \n",
    "    def get_oof(self,X,y,test_X):\n",
    "        oof = np.zeros((X.shape[0],len(self.mod)))\n",
    "        test_single = np.zeros((test_X.shape[0],5))#5折交叉验证\n",
    "        test_mean = np.zeros((test_X.shape[0],len(self.mod))) #模型长度\n",
    "        for i , model in enumerate(self.mod):\n",
    "            for j , (train_index,val_index) in enumerate(self.kf.split(X,y)):\n",
    "                clone_model = clone(model)\n",
    "                clone_model.fit(X[train_index],y[train_index])\n",
    "                oof[val_index,i] = clone_model.predict(X[val_index])\n",
    "                test_single[:,j] = clone_model.predict(test_X)\n",
    "            test_mean[:,i] = test_single.mean(axis = 1)\n",
    "        return oof,test_mean"
   ]
  },
  {
   "cell_type": "markdown",
   "metadata": {},
   "source": [
    "### 交叉验证得分"
   ]
  },
  {
   "cell_type": "code",
   "execution_count": 37,
   "metadata": {},
   "outputs": [
    {
     "data": {
      "text/plain": [
       "array([0.77777778, 0.75525526, 0.78796992, 0.74285714, 0.76992481])"
      ]
     },
     "execution_count": 37,
     "metadata": {},
     "output_type": "execute_result"
    }
   ],
   "source": [
    "models = [LR,svc,DT,RF,XGB]\n",
    "\n",
    "stack_model = stacking(mod = models,meta_model=LR)\n",
    "score = cross_val_score(stack_model,X_train,y_train.values,scoring='accuracy',cv=5)\n",
    "score"
   ]
  },
  {
   "cell_type": "markdown",
   "metadata": {},
   "source": [
    "### 测试集得分"
   ]
  },
  {
   "cell_type": "code",
   "execution_count": 38,
   "metadata": {},
   "outputs": [
    {
     "data": {
      "text/plain": [
       "0.7631394533987386"
      ]
     },
     "execution_count": 38,
     "metadata": {},
     "output_type": "execute_result"
    }
   ],
   "source": [
    "stack_model.fit(X_train,y_train.values)\n",
    "PRE = stack_model.predict(X_test)\n",
    "accuracy_score(y_test,PRE)"
   ]
  },
  {
   "cell_type": "markdown",
   "metadata": {},
   "source": [
    "- 检查逾期和不逾期的比例"
   ]
  },
  {
   "cell_type": "code",
   "execution_count": 39,
   "metadata": {},
   "outputs": [
    {
     "data": {
      "text/plain": [
       "([<matplotlib.patches.Wedge at 0x121b9610>,\n",
       "  <matplotlib.patches.Wedge at 0x121b9c10>],\n",
       " [Text(-0.775501,0.780127,'due'), Text(0.846001,-0.851048,'overdue')],\n",
       " [Text(-0.423001,0.425524,'74.91%'), Text(0.493501,-0.496444,'25.09%')])"
      ]
     },
     "execution_count": 39,
     "metadata": {},
     "output_type": "execute_result"
    },
    {
     "data": {
      "image/png": "[encoded data removed]",
      "text/plain": [
       "<Figure size 576x432 with 1 Axes>"
      ]
     },
     "metadata": {},
     "output_type": "display_data"
    }
   ],
   "source": [
    "target_col = 'status'\n",
    "labels = ['due','overdue']\n",
    "due = data.loc[(data[target_col] == 0)].shape[0] #  (data[target_col] == 0).sum()\n",
    "overdue = data.loc[(data[target_col] == 1)].shape[0]\n",
    "x = [due,overdue] \n",
    "\n",
    "plt.figure(figsize=(8,6))\n",
    "explode = [0, 0.1] # 0.1 凸出这部分，\n",
    "plt.axes(aspect=1)  # set this , Figure is round, otherwise it is an ellipse\n",
    "plt.pie(x,labels =labels,autopct='%1.2f%%',explode=explode,shadow=True)"
   ]
  },
  {
   "cell_type": "code",
   "execution_count": 40,
   "metadata": {},
   "outputs": [],
   "source": [
    "x = data.drop('status',axis=1)\n",
    "y = data.status\n",
    "X_train, X_test, y_train, y_test = train_test_split(x,y,test_size = 0.3,random_state =2018,shuffle = True,stratify = y) \n",
    "#shuffle 跟random_state是什么关系？ 只有shuffle为真时，random_state才会起作用,而且此时，无法进行分层stratified。\n",
    "# shuffle为True,即按照random_state状态进行shuffle.分层是严格按照30%比例进行，不分层的话因为是随机数进行shuffle，所以是在30%上下浮动"
   ]
  },
  {
   "cell_type": "code",
   "execution_count": 41,
   "metadata": {},
   "outputs": [
    {
     "data": {
      "text/plain": [
       "(3327, 1427, 3327, 1427)"
      ]
     },
     "execution_count": 41,
     "metadata": {},
     "output_type": "execute_result"
    }
   ],
   "source": [
    "#y_train[y_train == 1].size,y_test[y_test == 1].size ,y_train[y_train == 0].size,y_test[y_test == 0].size\n",
    "X_train.shape[0], X_test.shape[0], y_train.size, y_test.size"
   ]
  },
  {
   "cell_type": "markdown",
   "metadata": {},
   "source": [
    "**References**\n",
    "\n",
    "[模型融合方法总结](https://blog.csdn.net/junxinwoxin/article/details/80407917)\n",
    "\n",
    "[Kaggle机器学习之模型融合（stacking）心得](https://blog.csdn.net/binglingzy666/article/details/78489651)"
   ]
  }
 ],
 "metadata": {
  "kernelspec": {
   "display_name": "Python 3",
   "language": "python",
   "name": "python3"
  },
  "language_info": {
   "codemirror_mode": {
    "name": "ipython",
    "version": 3
   },
   "file_extension": ".py",
   "mimetype": "text/x-python",
   "name": "python",
   "nbconvert_exporter": "python",
   "pygments_lexer": "ipython3",
   "version": "3.6.6"
  }
 },
 "nbformat": 4,
 "nbformat_minor": 2
}
